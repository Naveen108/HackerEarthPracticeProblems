{
 "cells": [
  {
   "cell_type": "code",
   "execution_count": 8,
   "id": "46e82aa2",
   "metadata": {},
   "outputs": [
    {
     "name": "stdout",
     "output_type": "stream",
     "text": [
      "acb\n"
     ]
    }
   ],
   "source": [
    "def formMeSuffix(stringA,k):\n",
    "    substringA=[]\n",
    "    # First form all substrings out of the string\n",
    "    for _ in range(len(stringA)):\n",
    "        substringA.append(stringA[_:len(stringA)])\n",
    "    sortedA = sorted(substringA)\n",
    "    print(sortedA[k-1])\n",
    "    #print(substringA,sortedA)\n",
    "    \n",
    "\n",
    "stringPassed='aacb' \n",
    "k =2\n",
    "formMeSuffix(stringPassed,k)"
   ]
  },
  {
   "cell_type": "code",
   "execution_count": null,
   "id": "7e8ed37b",
   "metadata": {},
   "outputs": [],
   "source": []
  },
  {
   "cell_type": "code",
   "execution_count": null,
   "id": "9f96dedb",
   "metadata": {},
   "outputs": [],
   "source": []
  }
 ],
 "metadata": {
  "kernelspec": {
   "display_name": "Python 3",
   "language": "python",
   "name": "python3"
  },
  "language_info": {
   "codemirror_mode": {
    "name": "ipython",
    "version": 3
   },
   "file_extension": ".py",
   "mimetype": "text/x-python",
   "name": "python",
   "nbconvert_exporter": "python",
   "pygments_lexer": "ipython3",
   "version": "3.8.8"
  }
 },
 "nbformat": 4,
 "nbformat_minor": 5
}

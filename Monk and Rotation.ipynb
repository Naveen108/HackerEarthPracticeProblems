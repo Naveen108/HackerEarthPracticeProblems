{
 "cells": [
  {
   "cell_type": "code",
   "execution_count": null,
   "id": "ef5d691f",
   "metadata": {},
   "outputs": [],
   "source": [
    "testCase  = int(input())\n",
    "for _ in range(testCase):\n",
    "    n,k = map(int,input().split())\n",
    "    l = list(map(int,input().split()))\n",
    "    x = k%n # the k can be in range 0 to 10^6 hence we need modulo to find actual rotation required (for k>n some rotations will be usless) -NAVEEN SONI\n",
    "    print(*(l[n-x:]+l[:n-x]))\n"
   ]
  }
 ],
 "metadata": {
  "kernelspec": {
   "display_name": "Python 3",
   "language": "python",
   "name": "python3"
  },
  "language_info": {
   "codemirror_mode": {
    "name": "ipython",
    "version": 3
   },
   "file_extension": ".py",
   "mimetype": "text/x-python",
   "name": "python",
   "nbconvert_exporter": "python",
   "pygments_lexer": "ipython3",
   "version": "3.8.8"
  }
 },
 "nbformat": 4,
 "nbformat_minor": 5
}

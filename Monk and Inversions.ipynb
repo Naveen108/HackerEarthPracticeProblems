{
 "cells": [
  {
   "cell_type": "code",
   "execution_count": null,
   "id": "71ca8806",
   "metadata": {},
   "outputs": [],
   "source": [
    "for _ in range(int(input())):\n",
    "    n =int(input())\n",
    "    \n",
    "    AnsMetric=[]\n",
    "    \n",
    "    for k in range(n):\n",
    "        AnsMetric.append(list(map(int, input().strip().split(\" \"))))\n",
    "    \n",
    "    mtuple=[]\n",
    "    ntuple=[]\n",
    "\n",
    "    for i in range(n):\n",
    "        for j in range(n):\n",
    "            mtuple.append((i, j))\n",
    "            ntuple.append((i, j))   \n",
    "    ans=0\n",
    "    \n",
    "    '''\n",
    "    for i,j in mtuple:\n",
    "        for k,l in ntuple:\n",
    "        Naveen Soni\n",
    "    ''' \n",
    "\n",
    "    for i in range(n):\n",
    "        for j in range(n):\n",
    "            for k in range(i,n):\n",
    "                for l in range(j,n):\n",
    "                    if(i<=k and j<=l):\n",
    "                        if (AnsMetric[i][j]>AnsMetric[k][l]):\n",
    "                            ans+=1\n",
    "    \n",
    "    print(ans) "
   ]
  }
 ],
 "metadata": {
  "kernelspec": {
   "display_name": "Python 3",
   "language": "python",
   "name": "python3"
  },
  "language_info": {
   "codemirror_mode": {
    "name": "ipython",
    "version": 3
   },
   "file_extension": ".py",
   "mimetype": "text/x-python",
   "name": "python",
   "nbconvert_exporter": "python",
   "pygments_lexer": "ipython3",
   "version": "3.8.8"
  }
 },
 "nbformat": 4,
 "nbformat_minor": 5
}

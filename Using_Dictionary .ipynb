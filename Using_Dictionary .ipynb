{
 "cells": [
  {
   "cell_type": "code",
   "execution_count": 51,
   "id": "83c96919",
   "metadata": {},
   "outputs": [
    {
     "name": "stdout",
     "output_type": "stream",
     "text": [
      "1\n",
      "6\n",
      "3 1 3 2 3 2\n",
      "Ith  1 key 1\n",
      "Jth  2 key 2\n",
      "ans  -999999\n",
      "updated ans  -1\n",
      "Jth  3 key 3\n",
      "ans  -1\n",
      "Ith  2 key 2\n",
      "Jth  3 key 3\n",
      "ans  -1\n",
      "Ith  3 key 3\n",
      "1\n"
     ]
    }
   ],
   "source": [
    "def monkBeingMonitor():\n",
    "    testCases = int(input())\n",
    "  \n",
    "    for _ in range(testCases):\n",
    "        n = int(input())\n",
    "        stringA =  input().split()\n",
    "        dicKeyValue={}\n",
    "  \n",
    "        for i in range(n):\n",
    "            if stringA[i] in dicKeyValue.keys():\n",
    "                dicKeyValue[stringA[i]]+=1 \n",
    "            else:\n",
    "                dicKeyValue[stringA[i]]=1 \n",
    "        \n",
    "        keys = (sorted(dicKeyValue.keys()))\n",
    "\n",
    "        sortedDic = sorted(dicKeyValue.keys(),reverse =True)\n",
    "        \n",
    "        ans = -999999\n",
    "        \n",
    "        for i in range(len(keys)):\n",
    "            print('Ith ',dicKeyValue.get(keys[i]),'key',keys[i])\n",
    "            for j in range(i+1,len(keys)):\n",
    "                print('Jth ',dicKeyValue.get(keys[j]),'key',keys[j])\n",
    "                print('ans ', ans)\n",
    "                if( ans< dicKeyValue.get(sortedKey[i])-dicKeyValue.get(sortedKey[j])):\n",
    "                    ans = dicKeyValue.get(sortedKey[i])-dicKeyValue.get(sortedKey[j])\n",
    "                    print('updated ans ', ans)\n",
    "        if(ans<1):\n",
    "            print(1)\n",
    "        else:\n",
    "            print(ans)\n",
    "\n",
    "monkBeingMonitor()"
   ]
  },
  {
   "cell_type": "code",
   "execution_count": null,
   "id": "d9807fb2",
   "metadata": {},
   "outputs": [],
   "source": []
  }
 ],
 "metadata": {
  "kernelspec": {
   "display_name": "Python 3",
   "language": "python",
   "name": "python3"
  },
  "language_info": {
   "codemirror_mode": {
    "name": "ipython",
    "version": 3
   },
   "file_extension": ".py",
   "mimetype": "text/x-python",
   "name": "python",
   "nbconvert_exporter": "python",
   "pygments_lexer": "ipython3",
   "version": "3.8.8"
  }
 },
 "nbformat": 4,
 "nbformat_minor": 5
}

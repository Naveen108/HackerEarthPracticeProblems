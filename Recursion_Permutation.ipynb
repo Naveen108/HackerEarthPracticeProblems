{
 "cells": [
  {
   "cell_type": "code",
   "execution_count": 3,
   "id": "05b21325",
   "metadata": {},
   "outputs": [],
   "source": [
    "def perms(s):\n",
    "  if(len(s)==1):\n",
    "    return s\n",
    "\n",
    "  res = ''\n",
    "  for x in range(len(s)):\n",
    "\n",
    "    res += s[x] + perms(s[0:x] + s[x:len(s)])\n",
    "\n",
    "  return res + '\\n'"
   ]
  },
  {
   "cell_type": "code",
   "execution_count": null,
   "id": "49f64123",
   "metadata": {},
   "outputs": [],
   "source": [
    "perms('1234567890')"
   ]
  },
  {
   "cell_type": "code",
   "execution_count": 1,
   "id": "c7ca3fc5",
   "metadata": {},
   "outputs": [],
   "source": [
    "def Permute(string):\n",
    "    if len(string) == 0:\n",
    "        return ['']\n",
    "    prevList = Permute(string[1:len(string)])\n",
    "    nextList = []\n",
    "    for i in range(0,len(prevList)):\n",
    "        for j in range(0,len(string)):\n",
    "            newString = prevList[i][0:j]+string[0]+prevList[i][j:len(string)-1]\n",
    "            if newString not in nextList:\n",
    "                nextList.append(newString)\n",
    "    return nextList"
   ]
  },
  {
   "cell_type": "code",
   "execution_count": null,
   "id": "53c756b4",
   "metadata": {},
   "outputs": [],
   "source": [
    "stringList = Permute('1234567890')"
   ]
  },
  {
   "cell_type": "code",
   "execution_count": null,
   "id": "c712b244",
   "metadata": {},
   "outputs": [],
   "source": [
    "stringList"
   ]
  },
  {
   "cell_type": "code",
   "execution_count": 5,
   "id": "dfda458f",
   "metadata": {},
   "outputs": [
    {
     "ename": "NameError",
     "evalue": "name 's' is not defined",
     "output_type": "error",
     "traceback": [
      "\u001b[1;31m---------------------------------------------------------------------------\u001b[0m",
      "\u001b[1;31mNameError\u001b[0m                                 Traceback (most recent call last)",
      "\u001b[1;32m<ipython-input-5-8ec9bd1137ab>\u001b[0m in \u001b[0;36m<module>\u001b[1;34m\u001b[0m\n\u001b[0;32m     10\u001b[0m \u001b[1;33m\u001b[0m\u001b[0m\n\u001b[0;32m     11\u001b[0m \u001b[1;31m# main\u001b[0m\u001b[1;33m\u001b[0m\u001b[1;33m\u001b[0m\u001b[1;33m\u001b[0m\u001b[0m\n\u001b[1;32m---> 12\u001b[1;33m \u001b[1;32mfor\u001b[0m \u001b[0mpermutation\u001b[0m \u001b[1;32min\u001b[0m \u001b[0mpermute_string\u001b[0m\u001b[1;33m(\u001b[0m\u001b[0ms\u001b[0m\u001b[1;33m)\u001b[0m \u001b[1;33m:\u001b[0m\u001b[1;33m\u001b[0m\u001b[1;33m\u001b[0m\u001b[0m\n\u001b[0m\u001b[0;32m     13\u001b[0m     \u001b[0mprint\u001b[0m\u001b[1;33m(\u001b[0m\u001b[0mpermutation\u001b[0m\u001b[1;33m)\u001b[0m\u001b[1;33m\u001b[0m\u001b[1;33m\u001b[0m\u001b[0m\n",
      "\u001b[1;31mNameError\u001b[0m: name 's' is not defined"
     ]
    }
   ],
   "source": [
    "def permute_string(s):\n",
    "    if len(s) <= 1:   #  \"\" and 1 char strings are their all their own permutaions.\n",
    "        yield s\n",
    "        return\n",
    "    head = s[0] # we hold on to the first character\n",
    "    for tail in permute_string(s[1:]) :   # permute the rest\n",
    "        yield head + tail\n",
    "\n",
    "\n",
    "# main\n",
    "for permutation in permute_string(s) :\n",
    "    print(permutation)"
   ]
  },
  {
   "cell_type": "code",
   "execution_count": 22,
   "id": "5b55289c",
   "metadata": {},
   "outputs": [],
   "source": [
    "def perms(s):        \n",
    "    if(len(s)==1): return [s]\n",
    "    result=[]\n",
    "    for i,v in enumerate(s):\n",
    "        result += [v+p for p in perms(s[:i]+s[i+1:])]\n",
    "        print(i,s[:i]+s[i+1:])\n",
    "        print(result)\n",
    "    return result"
   ]
  },
  {
   "cell_type": "code",
   "execution_count": 23,
   "id": "6a530fc9",
   "metadata": {
    "scrolled": true
   },
   "outputs": [
    {
     "name": "stdout",
     "output_type": "stream",
     "text": [
      "0 3\n",
      "['23']\n",
      "1 2\n",
      "['23', '32']\n",
      "0 23\n",
      "['123', '132']\n",
      "0 3\n",
      "['13']\n",
      "1 1\n",
      "['13', '31']\n",
      "1 13\n",
      "['123', '132', '213', '231']\n",
      "0 2\n",
      "['12']\n",
      "1 1\n",
      "['12', '21']\n",
      "2 12\n",
      "['123', '132', '213', '231', '312', '321']\n"
     ]
    }
   ],
   "source": [
    "asdas=perms('123')"
   ]
  },
  {
   "cell_type": "code",
   "execution_count": 24,
   "id": "a23ccdcd",
   "metadata": {},
   "outputs": [
    {
     "ename": "SyntaxError",
     "evalue": "invalid syntax (<ipython-input-24-05149e3c1e12>, line 25)",
     "output_type": "error",
     "traceback": [
      "\u001b[1;36m  File \u001b[1;32m\"<ipython-input-24-05149e3c1e12>\"\u001b[1;36m, line \u001b[1;32m25\u001b[0m\n\u001b[1;33m    print toString(data)\u001b[0m\n\u001b[1;37m          ^\u001b[0m\n\u001b[1;31mSyntaxError\u001b[0m\u001b[1;31m:\u001b[0m invalid syntax\n"
     ]
    }
   ],
   "source": [
    "# Python program to print all permutations with repetition\n",
    "# of characters\n",
    "\n",
    "def toString(List):\n",
    "\treturn ''.join(List)\n",
    "\n",
    "# The main function that recursively prints all repeated\n",
    "# permutations of the given string. It uses data[] to store\n",
    "# all permutations one by one\n",
    "def allLexicographicRecur (string, data, last, index):\n",
    "\tlength = len(string)\n",
    "\n",
    "\t# One by one fix all characters at the given index and\n",
    "\t# recur for the subsequent indexes\n",
    "\tfor i in xrange(length):\n",
    "\n",
    "\t\t# Fix the ith character at index and if this is not\n",
    "\t\t# the last index then recursively call for higher\n",
    "\t\t# indexes\n",
    "\t\tdata[index] = string[i]\n",
    "\n",
    "\t\t# If this is the last index then print the string\n",
    "\t\t# stored in data[]\n",
    "\t\tif index==last:\n",
    "\t\t\tprint toString(data)\n",
    "\t\telse:\n",
    "\t\t\tallLexicographicRecur(string, data, last, index+1)\n",
    "\n",
    "# This function sorts input string, allocate memory for data\n",
    "# (needed for allLexicographicRecur()) and calls\n",
    "# allLexicographicRecur() for printing all permutations\n",
    "def allLexicographic(string):\n",
    "\tlength = len(string)\n",
    "\n",
    "\t# Create a temp array that will be used by\n",
    "\t# allLexicographicRecur()\n",
    "\tdata = [\"\"] * (length+1)\n",
    "\n",
    "\t# Sort the input string so that we get all output strings in\n",
    "\t# lexicographically sorted order\n",
    "\tstring = sorted(string)\n",
    "\n",
    "\t# Now print all permutaions\n",
    "\tallLexicographicRecur(string, data, length-1, 0)\n",
    "\n",
    "# Driver program to test the above functions\n",
    "string = \"ABC\"\n",
    "print \"All permutations with repetition of \" + string + \" are:\"\n",
    "allLexicographic(string)\n",
    "\n",
    "# This code is contributed to Bhavya Jain\n"
   ]
  },
  {
   "cell_type": "code",
   "execution_count": null,
   "id": "8c1d6d1f",
   "metadata": {},
   "outputs": [],
   "source": []
  }
 ],
 "metadata": {
  "kernelspec": {
   "display_name": "Python 3",
   "language": "python",
   "name": "python3"
  },
  "language_info": {
   "codemirror_mode": {
    "name": "ipython",
    "version": 3
   },
   "file_extension": ".py",
   "mimetype": "text/x-python",
   "name": "python",
   "nbconvert_exporter": "python",
   "pygments_lexer": "ipython3",
   "version": "3.8.8"
  }
 },
 "nbformat": 4,
 "nbformat_minor": 5
}
